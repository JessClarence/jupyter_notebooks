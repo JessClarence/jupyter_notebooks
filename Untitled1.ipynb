{
 "cells": [
  {
   "cell_type": "code",
   "execution_count": 5,
   "id": "20ee4d1e",
   "metadata": {},
   "outputs": [],
   "source": [
    "seq = [1,2,3,4,5,6]"
   ]
  },
  {
   "cell_type": "code",
   "execution_count": 8,
   "id": "cb684bf4",
   "metadata": {},
   "outputs": [],
   "source": [
    "t = lambda num: num*2\n"
   ]
  },
  {
   "cell_type": "code",
   "execution_count": 10,
   "id": "f364e003",
   "metadata": {},
   "outputs": [
    {
     "data": {
      "text/plain": [
       "[2, 4, 6, 8, 10, 12]"
      ]
     },
     "execution_count": 10,
     "metadata": {},
     "output_type": "execute_result"
    }
   ],
   "source": [
    "list(map(lambda num: num*2, seq))"
   ]
  },
  {
   "cell_type": "code",
   "execution_count": 11,
   "id": "5d2c2fae",
   "metadata": {},
   "outputs": [],
   "source": [
    "s = \"my name is nigggggerrrrr\""
   ]
  },
  {
   "cell_type": "code",
   "execution_count": 13,
   "id": "b5bcab71",
   "metadata": {},
   "outputs": [],
   "source": [
    "sample = {'k1':'2', 'k2':'3'}"
   ]
  },
  {
   "cell_type": "code",
   "execution_count": 14,
   "id": "9434a464",
   "metadata": {},
   "outputs": [
    {
     "data": {
      "text/plain": [
       "<function dict.keys>"
      ]
     },
     "execution_count": 14,
     "metadata": {},
     "output_type": "execute_result"
    }
   ],
   "source": [
    "sample.keys"
   ]
  },
  {
   "cell_type": "code",
   "execution_count": 15,
   "id": "64636a8d",
   "metadata": {},
   "outputs": [
    {
     "data": {
      "text/plain": [
       "dict_keys(['k1', 'k2'])"
      ]
     },
     "execution_count": 15,
     "metadata": {},
     "output_type": "execute_result"
    }
   ],
   "source": [
    "sample.keys()"
   ]
  },
  {
   "cell_type": "code",
   "execution_count": 16,
   "id": "f78729ab",
   "metadata": {},
   "outputs": [
    {
     "data": {
      "text/plain": [
       "dict_items([('k1', '2'), ('k2', '3')])"
      ]
     },
     "execution_count": 16,
     "metadata": {},
     "output_type": "execute_result"
    }
   ],
   "source": [
    "sample.items()"
   ]
  },
  {
   "cell_type": "code",
   "execution_count": null,
   "id": "ae4ecb1d",
   "metadata": {},
   "outputs": [],
   "source": []
  }
 ],
 "metadata": {
  "kernelspec": {
   "display_name": "Python 3 (ipykernel)",
   "language": "python",
   "name": "python3"
  },
  "language_info": {
   "codemirror_mode": {
    "name": "ipython",
    "version": 3
   },
   "file_extension": ".py",
   "mimetype": "text/x-python",
   "name": "python",
   "nbconvert_exporter": "python",
   "pygments_lexer": "ipython3",
   "version": "3.9.12"
  }
 },
 "nbformat": 4,
 "nbformat_minor": 5
}
